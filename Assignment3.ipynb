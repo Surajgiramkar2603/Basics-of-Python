{
  "cells": [
    {
      "cell_type": "code",
      "source": [
        "# Question 1\n",
        "\n",
        "temp = input(\"Input the  temperature you like to convert? (e.g., 45F, 102C etc.) : \")\n",
        "degree = int(temp[:-1])\n",
        "i_convention = temp[-1]\n",
        "\n",
        "if i_convention.upper() == \"C\":\n",
        "  result = int(round((9 * degree) / 5 + 32))\n",
        "  o_convention = \"Fahrenheit\"\n",
        "elif i_convention.upper() == \"F\":\n",
        "  result = int(round((degree - 32) * 5 / 9))\n",
        "  o_convention = \"Celsius\"\n",
        "else:\n",
        "  print(\"Input proper convention.\")\n",
        "  quit()\n",
        "print(\"The temperature in\", o_convention, \"is\", result, \"degrees.\")"
      ],
      "metadata": {
        "colab": {
          "base_uri": "https://localhost:8080/"
        },
        "id": "OYPkiLM41lIS",
        "outputId": "4253c40c-2188-423c-8750-64e080131d2d"
      },
      "execution_count": 12,
      "outputs": [
        {
          "output_type": "stream",
          "name": "stdout",
          "text": [
            "Input the  temperature you like to convert? (e.g., 45F, 102C etc.) : 40C\n",
            "The temperature in Fahrenheit is 104 degrees.\n"
          ]
        }
      ]
    },
    {
      "cell_type": "code",
      "source": [
        "# Question 2\n",
        "\n",
        "def simple_interest(p,t,r):\n",
        "\n",
        "    print('The principal is', p)\n",
        "    print('The time period is', t)\n",
        "    print('The rate of interest is',r)\n",
        "\n",
        "    si = (p * t * r)/100\n",
        "\n",
        "    print('The Simple Interest is', si)\n",
        "\n",
        "    return si\n",
        "\n",
        "# Driver code\n",
        "\n",
        "simple_interest(10000, 10, 5)\n",
        "\n",
        "# Compound Interest\n",
        "\n",
        "def compoundinterest(principle, rate, time):\n",
        " \n",
        "    # Calculates compound interest \n",
        "\n",
        "    Amount = principle * (pow((1 + rate / 100), time))\n",
        "\n",
        "    CI = Amount - principle\n",
        "\n",
        "    print(\"Compound interest is\", CI)\n",
        " \n",
        "# Driver Code \n",
        "\n",
        "compoundinterest(10000, 10, 5)"
      ],
      "metadata": {
        "colab": {
          "base_uri": "https://localhost:8080/"
        },
        "id": "yNsaoMYI1lKi",
        "outputId": "ff8245a7-da7c-4f87-e76b-432233c49066"
      },
      "execution_count": 13,
      "outputs": [
        {
          "output_type": "stream",
          "name": "stdout",
          "text": [
            "The principal is 10000\n",
            "The time period is 10\n",
            "The rate of interest is 5\n",
            "The Simple Interest is 5000.0\n",
            "Compound interest is 6105.100000000006\n"
          ]
        }
      ]
    },
    {
      "cell_type": "code",
      "source": [
        "# Question 3\n",
        "def divisible(m, n):\n",
        "\treturn True if m % n == 0 else False\n",
        "\n",
        "print(divisible(5,2))\n",
        "print(divisible(6,3))"
      ],
      "metadata": {
        "colab": {
          "base_uri": "https://localhost:8080/"
        },
        "id": "MRxAI08f4sPu",
        "outputId": "40210a07-8359-42e1-9451-22f90f0c514b"
      },
      "execution_count": 14,
      "outputs": [
        {
          "output_type": "stream",
          "name": "stdout",
          "text": [
            "False\n",
            "True\n"
          ]
        }
      ]
    },
    {
      "cell_type": "code",
      "source": [
        "# Question 4\n",
        "num = int(input(\"Enter a number: \"))\n",
        "mod = num % 2\n",
        "if mod > 0:\n",
        "    print(\"It is an odd number.\")\n",
        "else:\n",
        "    print(\"It is an even number.\")"
      ],
      "metadata": {
        "colab": {
          "base_uri": "https://localhost:8080/"
        },
        "id": "D3KJgJaA6d6q",
        "outputId": "b4283e2d-2127-4e59-9c62-f031aff9302b"
      },
      "execution_count": 15,
      "outputs": [
        {
          "output_type": "stream",
          "name": "stdout",
          "text": [
            "Enter a number: 11\n",
            "It is an odd number.\n"
          ]
        }
      ]
    },
    {
      "cell_type": "code",
      "source": [
        "# Question 4\n",
        "num = int(input(\"Enter a number: \"))\n",
        "mod = num % 2\n",
        "if mod > 0:\n",
        "    print(\"It is an odd number.\")\n",
        "else:\n",
        "    print(\"It is an even number.\")"
      ],
      "metadata": {
        "colab": {
          "base_uri": "https://localhost:8080/"
        },
        "id": "v7VgbJuT8M4r",
        "outputId": "933513dd-8072-4a8c-f16e-d0c50c47c880"
      },
      "execution_count": 16,
      "outputs": [
        {
          "output_type": "stream",
          "name": "stdout",
          "text": [
            "Enter a number: 20\n",
            "It is an even number.\n"
          ]
        }
      ]
    },
    {
      "cell_type": "code",
      "source": [
        "\n",
        "# Question 5\n",
        "\n",
        "# Defining Function\n",
        "import math\n",
        "\n",
        "def f(x):\n",
        "    return math.pow((math.e),-x)\n",
        "\n",
        "# Defining derivative of function\n",
        "def g(x):\n",
        "    return -1*math.pow((math.e),-x)\n",
        "\n",
        "# Implementing Newton Raphson Method\n",
        "\n",
        "def newtonRaphson(x0,e,N):\n",
        "    print('\\n\\n** NEWTON RAPHSON METHOD IMPLEMENTATION **')\n",
        "    step = 1              \n",
        "    flag = 1\n",
        "    condition = True\n",
        "    while condition:\n",
        "        if g(x0) == 0.0:\n",
        "            print('Divide by zero error!')\n",
        "            break\n",
        "        \n",
        "        x1 = x0 - f(x0)/g(x0)\n",
        "        print('Iteration-%d, x1 = %0.6f and f(x1) = %0.6f' % (step, x1, f(x1)))\n",
        "        x0 = x1\n",
        "        step = step + 1\n",
        "        \n",
        "        if step > N:\n",
        "            flag = 0\n",
        "            break\n",
        "        \n",
        "        condition = abs(f(x1)) > e\n",
        "    \n",
        "    if flag==1:\n",
        "        print('\\nRequired root is: %0.8f' % x1)\n",
        "    else:\n",
        "        print('\\nNot Convergent.')\n",
        "\n",
        "\n",
        "# Input Section\n",
        "x0 = input('Enter Guess: ')\n",
        "e = input('Tolerable Error: ')\n",
        "N = input('Maximum Step: ')\n",
        "\n",
        "# Converting x0 and e to float\n",
        "x0 = float(x0)\n",
        "e = float(e)\n",
        "\n",
        "# Converting N to integer\n",
        "N = int(N)\n",
        "\n",
        "\n",
        "#Note: You can combine above three section like this\n",
        "# x0 = float(input('Enter Guess: '))\n",
        "# e = float(input('Tolerable Error: '))\n",
        "# N = int(input('Maximum Step: '))\n",
        "\n",
        "# Starting Newton Raphson Method\n",
        "newtonRaphson(x0,e,N)"
      ],
      "metadata": {
        "colab": {
          "base_uri": "https://localhost:8080/"
        },
        "id": "UviLMREy8xPh",
        "outputId": "205a290e-a8df-4f0d-defe-89523cf105b7"
      },
      "execution_count": 17,
      "outputs": [
        {
          "output_type": "stream",
          "name": "stdout",
          "text": [
            "Enter Guess: -6\n",
            "Tolerable Error: 0.0001\n",
            "Maximum Step: 10\n",
            "\n",
            "\n",
            "** NEWTON RAPHSON METHOD IMPLEMENTATION **\n",
            "Iteration-1, x1 = -5.000000 and f(x1) = 148.413159\n",
            "Iteration-2, x1 = -4.000000 and f(x1) = 54.598150\n",
            "Iteration-3, x1 = -3.000000 and f(x1) = 20.085537\n",
            "Iteration-4, x1 = -2.000000 and f(x1) = 7.389056\n",
            "Iteration-5, x1 = -1.000000 and f(x1) = 2.718282\n",
            "Iteration-6, x1 = 0.000000 and f(x1) = 1.000000\n",
            "Iteration-7, x1 = 1.000000 and f(x1) = 0.367879\n",
            "Iteration-8, x1 = 2.000000 and f(x1) = 0.135335\n",
            "Iteration-9, x1 = 3.000000 and f(x1) = 0.049787\n",
            "Iteration-10, x1 = 4.000000 and f(x1) = 0.018316\n",
            "\n",
            "Not Convergent.\n"
          ]
        }
      ]
    },
    {
      "cell_type": "code",
      "source": [
        "\n",
        "# Question 6\n",
        "\n",
        "# Defining Function\n",
        "import math\n",
        "\n",
        "def f(x):\n",
        "    return math.cos(x)-2*x\n",
        "\n",
        "# Defining derivative of function\n",
        "def g(x):\n",
        "    return -math.sin(x)-2\n",
        "\n",
        "# Implementing Newton Raphson Method\n",
        "\n",
        "def newtonRaphson(x0,e,N):\n",
        "    print('\\n\\n** NEWTON RAPHSON METHOD IMPLEMENTATION **')\n",
        "    step = 1              \n",
        "    flag = 1\n",
        "    condition = True\n",
        "    while condition:\n",
        "        if g(x0) == 0.0:\n",
        "            print('Divide by zero error!')\n",
        "            break\n",
        "        \n",
        "        x1 = x0 - f(x0)/g(x0)\n",
        "        print('Iteration-%d, x1 = %0.6f and f(x1) = %0.6f' % (step, x1, f(x1)))\n",
        "        x0 = x1\n",
        "        step = step + 1\n",
        "        \n",
        "        if step > N:\n",
        "            flag = 0\n",
        "            break\n",
        "        \n",
        "        condition = abs(f(x1)) > e\n",
        "    \n",
        "    if flag==1:\n",
        "        print('\\nRequired root is: %0.8f' % x1)\n",
        "    else:\n",
        "        print('\\nNot Convergent.')\n",
        "\n",
        "\n",
        "# Input Section\n",
        "x0 = input('Enter Guess: ')\n",
        "e = input('Tolerable Error: ')\n",
        "N = input('Maximum Step: ')\n",
        "\n",
        "# Converting x0 and e to float\n",
        "x0 = float(x0)\n",
        "e = float(e)\n",
        "\n",
        "# Converting N to integer\n",
        "N = int(N)\n",
        "\n",
        "\n",
        "#Note: You can combine above three section like this\n",
        "# x0 = float(input('Enter Guess: '))\n",
        "# e = float(input('Tolerable Error: '))\n",
        "# N = int(input('Maximum Step: '))\n",
        "\n",
        "# Starting Newton Raphson Method\n",
        "newtonRaphson(x0,e,N)"
      ],
      "metadata": {
        "colab": {
          "base_uri": "https://localhost:8080/"
        },
        "id": "gBJcxn-qiWsE",
        "outputId": "911de5e0-bc8a-4c7d-b854-b447b61cf5e2"
      },
      "execution_count": 18,
      "outputs": [
        {
          "output_type": "stream",
          "name": "stdout",
          "text": [
            "Enter Guess: 0.5\n",
            "Tolerable Error: 0.001\n",
            "Maximum Step: 10\n",
            "\n",
            "\n",
            "** NEWTON RAPHSON METHOD IMPLEMENTATION **\n",
            "Iteration-1, x1 = 0.450627 and f(x1) = -0.001079\n",
            "Iteration-2, x1 = 0.450184 and f(x1) = -0.000000\n",
            "\n",
            "Required root is: 0.45018365\n"
          ]
        }
      ]
    },
    {
      "cell_type": "code",
      "source": [
        "# Question 7\n",
        "\n",
        "dic1={1:10, 2:20}\n",
        "dic2={3:30, 4:40} \n",
        "dic3={5:50, 6:60}\n",
        "dic4 = {}  \n",
        "\n",
        "for d in (dic1, dic2, dic3): dic4.update(d)  \n",
        "print(dic4)"
      ],
      "metadata": {
        "colab": {
          "base_uri": "https://localhost:8080/"
        },
        "id": "CUPa45wGgwuU",
        "outputId": "d078c683-c609-4f04-acc4-c74f349cf1d1"
      },
      "execution_count": 19,
      "outputs": [
        {
          "output_type": "stream",
          "name": "stdout",
          "text": [
            "{1: 10, 2: 20, 3: 30, 4: 40, 5: 50, 6: 60}\n"
          ]
        }
      ]
    },
    {
      "cell_type": "code",
      "source": [
        "# Question 7\n",
        "\n",
        "dic1={'a':1, 'b':2}\n",
        "dic2={'c':3, 'd':4}\n",
        "dic3={'e':5, 'f':6}\n",
        "dic4 = {}  \n",
        "\n",
        "for d in (dic1, dic2, dic3): dic4.update(d)  \n",
        "print(dic4)"
      ],
      "metadata": {
        "colab": {
          "base_uri": "https://localhost:8080/"
        },
        "id": "OX84tAONg-OZ",
        "outputId": "8a28bacc-e8ce-458b-bf41-ba513775eaf4"
      },
      "execution_count": 20,
      "outputs": [
        {
          "output_type": "stream",
          "name": "stdout",
          "text": [
            "{'a': 1, 'b': 2, 'c': 3, 'd': 4, 'e': 5, 'f': 6}\n"
          ]
        }
      ]
    },
    {
      "cell_type": "code",
      "source": [
        "# Question 8\n",
        "def printFibonacciNumbers(n):\n",
        " \n",
        "\n",
        "    f1 = 0\n",
        "\n",
        "    f2 = 1\n",
        "\n",
        "    if (n < 1):\n",
        "\n",
        "        return\n",
        "\n",
        "    print(f1, end=\" \")\n",
        "\n",
        "    for x in range(1, n):\n",
        "\n",
        "        print(f2, end=\" \")\n",
        "\n",
        "        next = f1 + f2\n",
        "\n",
        "        f1 = f2\n",
        "\n",
        "        f2 = next\n"
      ],
      "metadata": {
        "id": "y9IVlUM3hdiq"
      },
      "execution_count": 21,
      "outputs": []
    },
    {
      "cell_type": "code",
      "source": [
        "printFibonacciNumbers(10)"
      ],
      "metadata": {
        "colab": {
          "base_uri": "https://localhost:8080/"
        },
        "id": "sXlCO1vwhzRv",
        "outputId": "69787d69-3eb5-4e95-e1f6-da2252e051dc"
      },
      "execution_count": 22,
      "outputs": [
        {
          "output_type": "stream",
          "name": "stdout",
          "text": [
            "0 1 1 2 3 5 8 13 21 34 "
          ]
        }
      ]
    }
  ],
  "metadata": {
    "colab": {
      "collapsed_sections": [],
      "name": "Welcome To Colaboratory",
      "provenance": []
    },
    "kernelspec": {
      "display_name": "Python 3",
      "name": "python3"
    }
  },
  "nbformat": 4,
  "nbformat_minor": 0
}