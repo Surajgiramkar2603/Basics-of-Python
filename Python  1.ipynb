{
 "cells": [
  {
   "cell_type": "code",
   "execution_count": null,
   "id": "3fbc784e",
   "metadata": {},
   "outputs": [],
   "source": [
    "a=\"Suraj\"\n",
    "a"
   ]
  },
  {
   "cell_type": "code",
   "execution_count": null,
   "id": "abb6994a",
   "metadata": {},
   "outputs": [],
   "source": [
    "b=3\n",
    "c=\"3\"\n",
    "b\n",
    "c\n",
    "#3 is number \n",
    "#\"3\" is a string"
   ]
  },
  {
   "cell_type": "code",
   "execution_count": null,
   "id": "c18637d6",
   "metadata": {},
   "outputs": [],
   "source": [
    "\"DSFVGVGFCGFCHVHGCFCFG\""
   ]
  },
  {
   "cell_type": "code",
   "execution_count": null,
   "id": "1bf0997a",
   "metadata": {},
   "outputs": [],
   "source": [
    "A_=1\n",
    "a_=2\n",
    "a=3\n",
    "A=4"
   ]
  },
  {
   "cell_type": "code",
   "execution_count": null,
   "id": "a028ae81",
   "metadata": {},
   "outputs": [],
   "source": [
    "a"
   ]
  },
  {
   "cell_type": "code",
   "execution_count": null,
   "id": "5c73f8c1",
   "metadata": {},
   "outputs": [],
   "source": []
  },
  {
   "cell_type": "code",
   "execution_count": null,
   "id": "cb7a2fc4",
   "metadata": {},
   "outputs": [],
   "source": [
    "s=22/7\n",
    "s"
   ]
  },
  {
   "cell_type": "code",
   "execution_count": null,
   "id": "a4391e89",
   "metadata": {},
   "outputs": [],
   "source": [
    "x,y=10,5\n",
    "print(\"Addition=\",x+y)\n",
    "print(\"Subtraction=\",x-y)\n",
    "print(\"Multiplication=\",x*y)\n",
    "print(\"Division=\",x/y)\n",
    "print(\"Power=\",x**y)\n",
    "print(\"Modulus=\",x%y)\n",
    "print(\"Floor Division=\",x//y)\n",
    "\n",
    "\n",
    "\n"
   ]
  },
  {
   "cell_type": "code",
   "execution_count": null,
   "id": "d76279ed",
   "metadata": {},
   "outputs": [],
   "source": [
    "print(\"sqrt=\",s)"
   ]
  },
  {
   "cell_type": "code",
   "execution_count": null,
   "id": "e83e4021",
   "metadata": {},
   "outputs": [],
   "source": [
    "x,y,z,a,b,c=\"orange\",\"banana\",\"grapes\",\"kiwi\",\"melon\",\"jackfruit\"\n",
    "print(x)\n",
    "print(y)\n",
    "print(z)\n",
    "print(a)\n",
    "print(b)\n",
    "print(c)"
   ]
  },
  {
   "cell_type": "code",
   "execution_count": null,
   "id": "6cc9f7cd",
   "metadata": {},
   "outputs": [],
   "source": []
  }
 ],
 "metadata": {
  "kernelspec": {
   "display_name": "Python 3 (ipykernel)",
   "language": "python",
   "name": "python3"
  },
  "language_info": {
   "codemirror_mode": {
    "name": "ipython",
    "version": 3
   },
   "file_extension": ".py",
   "mimetype": "text/x-python",
   "name": "python",
   "nbconvert_exporter": "python",
   "pygments_lexer": "ipython3",
   "version": "3.8.12"
  }
 },
 "nbformat": 4,
 "nbformat_minor": 5
}
