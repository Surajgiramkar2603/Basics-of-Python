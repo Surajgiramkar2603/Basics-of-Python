{
 "cells": [
  {
   "cell_type": "code",
   "execution_count": null,
   "id": "d4a6f8cb",
   "metadata": {},
   "outputs": [],
   "source": [
    "#Print the tenth element of the string \n",
    "Name=\"Michael Jackson\"\n",
    "print(Name[10])"
   ]
  },
  {
   "cell_type": "code",
   "execution_count": null,
   "id": "0232a932",
   "metadata": {},
   "outputs": [],
   "source": [
    "print(Name[0])"
   ]
  },
  {
   "cell_type": "code",
   "execution_count": null,
   "id": "0e81ecb5",
   "metadata": {},
   "outputs": [],
   "source": [
    "print(Name[-1])"
   ]
  },
  {
   "cell_type": "code",
   "execution_count": null,
   "id": "86553baa",
   "metadata": {},
   "outputs": [],
   "source": [
    "print(\"Demo for learning git\")"
   ]
  },
  {
   "cell_type": "code",
   "execution_count": null,
   "id": "7db1a7d0",
   "metadata": {},
   "outputs": [],
   "source": [
    "print(10 > 9) \n",
    "print(10 == 9) \n",
    "print(10 < 9)"
   ]
  },
  {
   "cell_type": "code",
   "execution_count": null,
   "id": "ecf03770",
   "metadata": {},
   "outputs": [],
   "source": [
    "print(bool(\"Hello\")) \n",
    "print(bool())"
   ]
  },
  {
   "cell_type": "code",
   "execution_count": null,
   "id": "790da2e7",
   "metadata": {},
   "outputs": [],
   "source": [
    "x = \"Hello\" \n",
    "y = 15 \n",
    "print(bool(x))\n",
    "print(bool(y))"
   ]
  },
  {
   "cell_type": "code",
   "execution_count": null,
   "id": "b38dcdc8",
   "metadata": {},
   "outputs": [],
   "source": [
    "print(bool(False)) \n",
    "print(bool(None))\n",
    "print(bool(0)) \n",
    "print(bool(\"\")) \n",
    "print(bool(())) \n",
    "print(bool([])) \n",
    "print(bool({}))"
   ]
  },
  {
   "cell_type": "code",
   "execution_count": null,
   "id": "b39cebb1",
   "metadata": {},
   "outputs": [],
   "source": [
    "x,y = 15, 9 \n",
    "print(x==y) \n",
    "print(x!=y) \n",
    "print(x>y) \n",
    "print(x<y)\n",
    "print(x>=y) \n",
    "print(x<=y)"
   ]
  },
  {
   "cell_type": "code",
   "execution_count": null,
   "id": "979b0c38",
   "metadata": {},
   "outputs": [],
   "source": [
    "x=8 \n",
    "print(x < 5 and x < 10) \n",
    "print(x < 5 or x < 10)\n",
    "print(not(x>10))\n",
    "print(not(x < 5 and x < 10))"
   ]
  },
  {
   "cell_type": "code",
   "execution_count": null,
   "id": "3d5b5748",
   "metadata": {},
   "outputs": [],
   "source": [
    "x, y = 2,10 \n",
    "print(x is y) \n",
    "print(x is not y)"
   ]
  },
  {
   "cell_type": "code",
   "execution_count": null,
   "id": "17288958",
   "metadata": {},
   "outputs": [],
   "source": [
    "x, y = 'Hi', \"Hi\" \n",
    "print(x is y) \n",
    "print(x is not y)"
   ]
  },
  {
   "cell_type": "code",
   "execution_count": null,
   "id": "5fafcb8d",
   "metadata": {},
   "outputs": [],
   "source": [
    "x=\"Have a good day!\"\n",
    "x"
   ]
  },
  {
   "cell_type": "code",
   "execution_count": null,
   "id": "2c14eb28",
   "metadata": {},
   "outputs": [],
   "source": [
    "a = \"is not in Pune\" \n",
    "print('Pune' in a)"
   ]
  },
  {
   "cell_type": "code",
   "execution_count": null,
   "id": "375fc38f",
   "metadata": {},
   "outputs": [],
   "source": [
    "a=\"I Like Python\" \n",
    "print(a[-11:-7]) \n",
    "print(a[2:6])"
   ]
  },
  {
   "cell_type": "code",
   "execution_count": null,
   "id": "aea71177",
   "metadata": {},
   "outputs": [],
   "source": []
  }
 ],
 "metadata": {
  "kernelspec": {
   "display_name": "Python 3 (ipykernel)",
   "language": "python",
   "name": "python3"
  },
  "language_info": {
   "codemirror_mode": {
    "name": "ipython",
    "version": 3
   },
   "file_extension": ".py",
   "mimetype": "text/x-python",
   "name": "python",
   "nbconvert_exporter": "python",
   "pygments_lexer": "ipython3",
   "version": "3.8.12"
  }
 },
 "nbformat": 4,
 "nbformat_minor": 5
}
