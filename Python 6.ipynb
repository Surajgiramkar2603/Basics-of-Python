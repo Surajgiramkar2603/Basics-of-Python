{
 "cells": [
  {
   "cell_type": "code",
   "execution_count": 3,
   "id": "5cc5c9ce",
   "metadata": {},
   "outputs": [
    {
     "name": "stdout",
     "output_type": "stream",
     "text": [
      "Enter city Name Raigad\n",
      "Division HQ is Located in Mumbai\n"
     ]
    }
   ],
   "source": [
    "Maharashtra = (\"Kokan, west_Maharashtra, North_Maharashtra, Marathwada, Vidarbh\")\n",
    "city =input(\"Enter city Name \")\n",
    "West_Maharashtra = (\"Kolhapur, Pune, Sangli, Satara, Solapur\")\n",
    "North_Maharashtra = (\"Dhule, Jalgaon, Nandurbar, Nashik,Ahmednagar\")\n",
    "Marathwada = (\"Aurangabad, Beed, Jalna, Osmanabad, Nanded, Latur, Parbhani, Hingoli\")\n",
    "Vidarbh = (\"Bhandara, Chandrapur, Gadch iroli, Gondia, Nagpur, Wardha, Akola, Amravati, Buldana, Yavatmal, Washim\")\n",
    "Amravati = (\"Akola, Amravati, Buldana, Yavatmal, Washim\")\n",
    "Kokan = (\"Mumbai City, Mumbai Suburban, Thane, Palghar, Raigad, Ratnagiri ,Sindhudurg\")\n",
    "if city in Kokan:\n",
    "    print(\"Division HQ is Located in Mumbai\")\n",
    "if city in West_Maharashtra:\n",
    "    print(\"Division HQ is Located in Pune\")\n",
    "if city in North_Maharashtra:\n",
    "    print(\"Division HQ is Located Nasik\")\n",
    "if city in Marathwada:\n",
    "    print(\"Division HQ is Located in Aurangabad\")\n",
    "if city in Vidarbh:\n",
    "    if city in Amravati:\n",
    "        print(\"Division HQ is Located in Amravati\")\n",
    "    else:\n",
    "        print(\"Division HQ is Located in Nagpur\")    \n",
    "#city not in Maharashtra \n",
    "    print(\"City is out of Maharashtra\")"
   ]
  },
  {
   "cell_type": "code",
   "execution_count": null,
   "id": "dc00c1c9",
   "metadata": {},
   "outputs": [],
   "source": []
  }
 ],
 "metadata": {
  "kernelspec": {
   "display_name": "Python 3 (ipykernel)",
   "language": "python",
   "name": "python3"
  },
  "language_info": {
   "codemirror_mode": {
    "name": "ipython",
    "version": 3
   },
   "file_extension": ".py",
   "mimetype": "text/x-python",
   "name": "python",
   "nbconvert_exporter": "python",
   "pygments_lexer": "ipython3",
   "version": "3.8.12"
  }
 },
 "nbformat": 4,
 "nbformat_minor": 5
}
