{
 "cells": [
  {
   "cell_type": "code",
   "execution_count": 1,
   "id": "43ee11b8",
   "metadata": {},
   "outputs": [],
   "source": [
    "Name=\"Suraj Giramkar\"\n",
    "Roll_No=9109"
   ]
  },
  {
   "cell_type": "code",
   "execution_count": 2,
   "id": "89b0f835",
   "metadata": {},
   "outputs": [
    {
     "name": "stdout",
     "output_type": "stream",
     "text": [
      "('Suraj', 'Age-22', 'Mail-ID')\n",
      "('Sp college', 'Statistics', 'College student')\n"
     ]
    }
   ],
   "source": [
    "A=(\"Suraj\",\"Age-22\",\"Mail-ID\")\n",
    "B=(\"Sp college\",\"Statistics\",\"College student\")\n",
    "print(A)\n",
    "print(B)"
   ]
  },
  {
   "cell_type": "code",
   "execution_count": 3,
   "id": "d03bc6ac",
   "metadata": {},
   "outputs": [
    {
     "data": {
      "text/plain": [
       "tuple"
      ]
     },
     "execution_count": 3,
     "metadata": {},
     "output_type": "execute_result"
    }
   ],
   "source": [
    "type(A)\n",
    "type(B)"
   ]
  },
  {
   "cell_type": "code",
   "execution_count": 4,
   "id": "6bf7334c",
   "metadata": {},
   "outputs": [
    {
     "name": "stdout",
     "output_type": "stream",
     "text": [
      "<class 'tuple'>\n",
      "('Suraj', 'Age-22', 'Mail-ID')\n",
      "<class 'tuple'>\n",
      "('Sp college', 'Statistics', 'College student')\n"
     ]
    }
   ],
   "source": [
    "a=(\"Suraj\",\"Age-22\",\"Mail-ID\")\n",
    "b=(\"Sp college\",\"Statistics\",\"College student\")\n",
    "print(type(a))\n",
    "print(a)\n",
    "print(type(b))\n",
    "print(b)"
   ]
  },
  {
   "cell_type": "code",
   "execution_count": 5,
   "id": "f5cae3f9",
   "metadata": {},
   "outputs": [
    {
     "name": "stdout",
     "output_type": "stream",
     "text": [
      "('Suraj', 'Age-22', 'Mail-ID')\n",
      "('College student',)\n"
     ]
    }
   ],
   "source": [
    "print(a[:3] )\n",
    "print(b[2:]) "
   ]
  },
  {
   "cell_type": "code",
   "execution_count": 6,
   "id": "7e3b06dd",
   "metadata": {},
   "outputs": [
    {
     "name": "stdout",
     "output_type": "stream",
     "text": [
      "Mail-ID\n",
      "('College student',)\n",
      "('Suraj', 'Age-22')\n",
      "('Statistics', 'College student')\n"
     ]
    }
   ],
   "source": [
    "print(a[2])\n",
    "print(b[2:])\n",
    "print(a[:2])\n",
    "print(b[1:3])"
   ]
  },
  {
   "cell_type": "code",
   "execution_count": 7,
   "id": "7a5cd66b",
   "metadata": {},
   "outputs": [
    {
     "name": "stdout",
     "output_type": "stream",
     "text": [
      "Age-22\n",
      "('College student',)\n",
      "('Suraj',)\n",
      "('Sp college', 'Statistics')\n"
     ]
    }
   ],
   "source": [
    "print(a[-2])\n",
    "print(b[-1:])\n",
    "print(a[:-2])\n",
    "print(b[-3:-1])"
   ]
  },
  {
   "cell_type": "code",
   "execution_count": 8,
   "id": "af70e54d",
   "metadata": {},
   "outputs": [
    {
     "name": "stdout",
     "output_type": "stream",
     "text": [
      "('Suraj', 'Age-22', 'Mail-ID')\n"
     ]
    },
    {
     "ename": "AttributeError",
     "evalue": "'tuple' object has no attribute 'copy'",
     "output_type": "error",
     "traceback": [
      "\u001b[1;31m---------------------------------------------------------------------------\u001b[0m",
      "\u001b[1;31mAttributeError\u001b[0m                            Traceback (most recent call last)",
      "\u001b[1;32m~\\AppData\\Local\\Temp/ipykernel_1252/3735370307.py\u001b[0m in \u001b[0;36m<module>\u001b[1;34m\u001b[0m\n\u001b[0;32m      1\u001b[0m \u001b[0mprint\u001b[0m\u001b[1;33m(\u001b[0m\u001b[0mA\u001b[0m\u001b[1;33m)\u001b[0m\u001b[1;33m\u001b[0m\u001b[1;33m\u001b[0m\u001b[0m\n\u001b[1;32m----> 2\u001b[1;33m \u001b[0mA1\u001b[0m\u001b[1;33m=\u001b[0m\u001b[0mA\u001b[0m\u001b[1;33m.\u001b[0m\u001b[0mcopy\u001b[0m\u001b[1;33m(\u001b[0m\u001b[1;33m)\u001b[0m\u001b[1;33m\u001b[0m\u001b[1;33m\u001b[0m\u001b[0m\n\u001b[0m\u001b[0;32m      3\u001b[0m \u001b[0mprint\u001b[0m\u001b[1;33m(\u001b[0m\u001b[0mA1\u001b[0m\u001b[1;33m)\u001b[0m\u001b[1;33m\u001b[0m\u001b[1;33m\u001b[0m\u001b[0m\n\u001b[0;32m      4\u001b[0m \u001b[1;33m\u001b[0m\u001b[0m\n\u001b[0;32m      5\u001b[0m \u001b[1;31m#tuples canno0t be copied\u001b[0m\u001b[1;33m\u001b[0m\u001b[1;33m\u001b[0m\u001b[1;33m\u001b[0m\u001b[0m\n",
      "\u001b[1;31mAttributeError\u001b[0m: 'tuple' object has no attribute 'copy'"
     ]
    }
   ],
   "source": [
    "print(A)\n",
    "A1=A.copy()\n",
    "print(A1)\n",
    "\n",
    "#tuples canno0t be copied"
   ]
  },
  {
   "cell_type": "code",
   "execution_count": 9,
   "id": "c97b6c52",
   "metadata": {},
   "outputs": [
    {
     "name": "stdout",
     "output_type": "stream",
     "text": [
      "('Sp college', 'Statistics', 'College student')\n"
     ]
    },
    {
     "ename": "AttributeError",
     "evalue": "'tuple' object has no attribute 'append'",
     "output_type": "error",
     "traceback": [
      "\u001b[1;31m---------------------------------------------------------------------------\u001b[0m",
      "\u001b[1;31mAttributeError\u001b[0m                            Traceback (most recent call last)",
      "\u001b[1;32m~\\AppData\\Local\\Temp/ipykernel_1252/3160201367.py\u001b[0m in \u001b[0;36m<module>\u001b[1;34m\u001b[0m\n\u001b[0;32m      1\u001b[0m \u001b[0mprint\u001b[0m\u001b[1;33m(\u001b[0m\u001b[0mB\u001b[0m\u001b[1;33m)\u001b[0m\u001b[1;33m\u001b[0m\u001b[1;33m\u001b[0m\u001b[0m\n\u001b[1;32m----> 2\u001b[1;33m \u001b[0mB\u001b[0m\u001b[1;33m.\u001b[0m\u001b[0mappend\u001b[0m\u001b[1;33m(\u001b[0m\u001b[1;34m\"Autonomous\"\u001b[0m\u001b[1;33m)\u001b[0m\u001b[1;33m\u001b[0m\u001b[1;33m\u001b[0m\u001b[0m\n\u001b[0m\u001b[0;32m      3\u001b[0m \u001b[0mprint\u001b[0m\u001b[1;33m(\u001b[0m\u001b[0mB\u001b[0m\u001b[1;33m)\u001b[0m\u001b[1;33m\u001b[0m\u001b[1;33m\u001b[0m\u001b[0m\n\u001b[0;32m      4\u001b[0m \u001b[1;33m\u001b[0m\u001b[0m\n\u001b[0;32m      5\u001b[0m \u001b[1;31m##Tuples cannot be modified\u001b[0m\u001b[1;33m\u001b[0m\u001b[1;33m\u001b[0m\u001b[1;33m\u001b[0m\u001b[0m\n",
      "\u001b[1;31mAttributeError\u001b[0m: 'tuple' object has no attribute 'append'"
     ]
    }
   ],
   "source": [
    "print(B)\n",
    "B.append(\"Autonomous\")\n",
    "print(B)\n",
    "\n",
    "##Tuples cannot be modified"
   ]
  },
  {
   "cell_type": "code",
   "execution_count": 10,
   "id": "ca478047",
   "metadata": {},
   "outputs": [
    {
     "name": "stdout",
     "output_type": "stream",
     "text": [
      "1\n",
      "1\n"
     ]
    }
   ],
   "source": [
    "print(A.index(\"Age-22\"))\n",
    "print(B.index(\"Statistics\"))\n"
   ]
  },
  {
   "cell_type": "code",
   "execution_count": 11,
   "id": "746eb5de",
   "metadata": {},
   "outputs": [
    {
     "name": "stdout",
     "output_type": "stream",
     "text": [
      "('Suraj', 'Age-22', 'Mail-ID')\n"
     ]
    },
    {
     "ename": "TypeError",
     "evalue": "'tuple' object does not support item assignment",
     "output_type": "error",
     "traceback": [
      "\u001b[1;31m---------------------------------------------------------------------------\u001b[0m",
      "\u001b[1;31mTypeError\u001b[0m                                 Traceback (most recent call last)",
      "\u001b[1;32m~\\AppData\\Local\\Temp/ipykernel_1252/1858167012.py\u001b[0m in \u001b[0;36m<module>\u001b[1;34m\u001b[0m\n\u001b[0;32m      1\u001b[0m \u001b[0mprint\u001b[0m\u001b[1;33m(\u001b[0m\u001b[0ma\u001b[0m\u001b[1;33m)\u001b[0m\u001b[1;33m\u001b[0m\u001b[1;33m\u001b[0m\u001b[0m\n\u001b[1;32m----> 2\u001b[1;33m \u001b[0ma\u001b[0m\u001b[1;33m[\u001b[0m\u001b[1;36m2\u001b[0m\u001b[1;33m]\u001b[0m\u001b[1;33m=\u001b[0m\u001b[1;34m\"joy\"\u001b[0m\u001b[1;33m\u001b[0m\u001b[1;33m\u001b[0m\u001b[0m\n\u001b[0m\u001b[0;32m      3\u001b[0m \u001b[0mprint\u001b[0m\u001b[1;33m(\u001b[0m\u001b[0ma\u001b[0m\u001b[1;33m)\u001b[0m\u001b[1;33m\u001b[0m\u001b[1;33m\u001b[0m\u001b[0m\n\u001b[0;32m      4\u001b[0m \u001b[1;33m\u001b[0m\u001b[0m\n\u001b[0;32m      5\u001b[0m \u001b[1;31m#Tuples does not support assignment\u001b[0m\u001b[1;33m\u001b[0m\u001b[1;33m\u001b[0m\u001b[1;33m\u001b[0m\u001b[0m\n",
      "\u001b[1;31mTypeError\u001b[0m: 'tuple' object does not support item assignment"
     ]
    }
   ],
   "source": [
    "print(a)\n",
    "a[2]=\"joy\"\n",
    "print(a)\n",
    "\n",
    "#Tuples does not support assignment"
   ]
  },
  {
   "cell_type": "code",
   "execution_count": 12,
   "id": "02904c50",
   "metadata": {},
   "outputs": [
    {
     "name": "stdout",
     "output_type": "stream",
     "text": [
      "['D', 'A', 'C', 'B']\n",
      "[4, 2, 1, 3]\n",
      "['A', 'B', 'C', 'D']\n",
      "[1, 2, 3, 4]\n"
     ]
    }
   ],
   "source": [
    "#LISTS\n",
    "K=[\"D\",\"A\",\"C\",\"B\"]\n",
    "print(K)\n",
    "K1=[4,2,1,3]\n",
    "print(K1)\n",
    "K.sort()\n",
    "K1.sort()\n",
    "print(K)\n",
    "print(K1)"
   ]
  },
  {
   "cell_type": "code",
   "execution_count": 13,
   "id": "a19bcf3c",
   "metadata": {},
   "outputs": [
    {
     "name": "stdout",
     "output_type": "stream",
     "text": [
      "['A', 'B']\n",
      "[1, 2, 3, 4]\n"
     ]
    }
   ],
   "source": [
    "print(K[:2])\n",
    "print(K1[0:])"
   ]
  },
  {
   "cell_type": "code",
   "execution_count": 14,
   "id": "0907c5ee",
   "metadata": {},
   "outputs": [
    {
     "name": "stdout",
     "output_type": "stream",
     "text": [
      "['Suraj_Giramkar', 'SP COllege', [22, 411023]]\n",
      "[22, 411023]\n"
     ]
    }
   ],
   "source": [
    "ABlist=[\"Suraj_Giramkar\",\"SP COllege\",[22,411023]]\n",
    "print(ABlist)\n",
    "print(ABlist[2])"
   ]
  },
  {
   "cell_type": "code",
   "execution_count": null,
   "id": "6b148ca4",
   "metadata": {},
   "outputs": [],
   "source": []
  }
 ],
 "metadata": {
  "kernelspec": {
   "display_name": "Python 3 (ipykernel)",
   "language": "python",
   "name": "python3"
  },
  "language_info": {
   "codemirror_mode": {
    "name": "ipython",
    "version": 3
   },
   "file_extension": ".py",
   "mimetype": "text/x-python",
   "name": "python",
   "nbconvert_exporter": "python",
   "pygments_lexer": "ipython3",
   "version": "3.8.12"
  }
 },
 "nbformat": 4,
 "nbformat_minor": 5
}
