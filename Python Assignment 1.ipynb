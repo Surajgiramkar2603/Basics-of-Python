{
 "cells": [
  {
   "cell_type": "code",
   "execution_count": 1,
   "id": "43ee11b8",
   "metadata": {},
   "outputs": [
    {
     "ename": "SyntaxError",
     "evalue": "invalid syntax (Temp/ipykernel_13996/59015676.py, line 1)",
     "output_type": "error",
     "traceback": [
      "\u001b[1;36m  File \u001b[1;32m\"C:\\Users\\DELL\\AppData\\Local\\Temp/ipykernel_13996/59015676.py\"\u001b[1;36m, line \u001b[1;32m1\u001b[0m\n\u001b[1;33m    A = [Name and Basic Details]\u001b[0m\n\u001b[1;37m                        ^\u001b[0m\n\u001b[1;31mSyntaxError\u001b[0m\u001b[1;31m:\u001b[0m invalid syntax\n"
     ]
    }
   ],
   "source": [
    "A = [Name and Basic Details]\n",
    "B = [College Details]\n",
    "Create \n",
    "2 tuples \n",
    "a = (Name and Basic Details)\n",
    "b = (College Details)\n",
    "Perform all the methods which we learn in the lecture today and yesterday. \n",
    "**Note : In personal details don't add your Mobile Number and \n",
    "Email id. **"
   ]
  },
  {
   "cell_type": "code",
   "execution_count": 14,
   "id": "89b0f835",
   "metadata": {},
   "outputs": [],
   "source": [
    "A=(\"Suraj \",\"Age-21\",\"Mail-ID\")\n",
    "B=(\"Sp college\",\"Statistics\",\"College student\")"
   ]
  },
  {
   "cell_type": "code",
   "execution_count": null,
   "id": "d03bc6ac",
   "metadata": {},
   "outputs": [],
   "source": []
  },
  {
   "cell_type": "code",
   "execution_count": 15,
   "id": "6bf7334c",
   "metadata": {},
   "outputs": [
    {
     "name": "stdout",
     "output_type": "stream",
     "text": [
      "<class 'tuple'>\n",
      "('Suraj', 'Age-21', 'Mail-ID')\n",
      "<class 'tuple'>\n",
      "('Sp college', 'Statistics', 'College student')\n"
     ]
    }
   ],
   "source": [
    "a=(\"Suraj\",\"Age-21\",\"Mail-ID\")\n",
    "b=(\"Sp college\",\"Statistics\",\"College student\")\n",
    "print(type(a))\n",
    "print(a)\n",
    "print(type(b))\n",
    "print(b)"
   ]
  },
  {
   "cell_type": "code",
   "execution_count": 16,
   "id": "f5cae3f9",
   "metadata": {},
   "outputs": [
    {
     "name": "stdout",
     "output_type": "stream",
     "text": [
      "('Suraj', 'Age-21', 'Mail-ID')\n",
      "('College student',)\n"
     ]
    }
   ],
   "source": [
    "print(a[:3] )\n",
    "print(b[2:]) "
   ]
  },
  {
   "cell_type": "code",
   "execution_count": 17,
   "id": "7e3b06dd",
   "metadata": {},
   "outputs": [
    {
     "name": "stdout",
     "output_type": "stream",
     "text": [
      "Mail-ID\n",
      "('College student',)\n",
      "('Suraj', 'Age-21')\n",
      "('Statistics', 'College student')\n"
     ]
    }
   ],
   "source": [
    "print(a[2])\n",
    "print(b[2:])\n",
    "print(a[:2])\n",
    "print(b[1:3])"
   ]
  },
  {
   "cell_type": "code",
   "execution_count": 18,
   "id": "7a5cd66b",
   "metadata": {},
   "outputs": [
    {
     "name": "stdout",
     "output_type": "stream",
     "text": [
      "Mail-ID\n",
      "('Statistics', 'College student')\n",
      "('Suraj',)\n",
      "('Sp college', 'Statistics')\n"
     ]
    }
   ],
   "source": [
    "print(a[-1])\n",
    "print(b[-2:])\n",
    "print(a[:-2])\n",
    "print(b[-3:-1])"
   ]
  },
  {
   "cell_type": "code",
   "execution_count": 19,
   "id": "746eb5de",
   "metadata": {},
   "outputs": [
    {
     "name": "stdout",
     "output_type": "stream",
     "text": [
      "('Suraj', 'Age-21', 'Mail-ID')\n"
     ]
    },
    {
     "ename": "TypeError",
     "evalue": "'tuple' object does not support item assignment",
     "output_type": "error",
     "traceback": [
      "\u001b[1;31m---------------------------------------------------------------------------\u001b[0m",
      "\u001b[1;31mTypeError\u001b[0m                                 Traceback (most recent call last)",
      "\u001b[1;32m~\\AppData\\Local\\Temp/ipykernel_13996/2784173098.py\u001b[0m in \u001b[0;36m<module>\u001b[1;34m\u001b[0m\n\u001b[0;32m      1\u001b[0m \u001b[0mprint\u001b[0m\u001b[1;33m(\u001b[0m\u001b[0ma\u001b[0m\u001b[1;33m)\u001b[0m\u001b[1;33m\u001b[0m\u001b[1;33m\u001b[0m\u001b[0m\n\u001b[1;32m----> 2\u001b[1;33m \u001b[0ma\u001b[0m\u001b[1;33m[\u001b[0m\u001b[1;36m2\u001b[0m\u001b[1;33m]\u001b[0m\u001b[1;33m=\u001b[0m\u001b[1;34m\"joy\"\u001b[0m\u001b[1;33m\u001b[0m\u001b[1;33m\u001b[0m\u001b[0m\n\u001b[0m\u001b[0;32m      3\u001b[0m \u001b[0mprint\u001b[0m\u001b[1;33m(\u001b[0m\u001b[0ma\u001b[0m\u001b[1;33m)\u001b[0m\u001b[1;33m\u001b[0m\u001b[1;33m\u001b[0m\u001b[0m\n",
      "\u001b[1;31mTypeError\u001b[0m: 'tuple' object does not support item assignment"
     ]
    }
   ],
   "source": [
    "print(a)\n",
    "a[2]=\"joy\"\n",
    "print(a)"
   ]
  },
  {
   "cell_type": "code",
   "execution_count": null,
   "id": "02904c50",
   "metadata": {},
   "outputs": [],
   "source": []
  },
  {
   "cell_type": "code",
   "execution_count": null,
   "id": "a19bcf3c",
   "metadata": {},
   "outputs": [],
   "source": []
  },
  {
   "cell_type": "code",
   "execution_count": null,
   "id": "0907c5ee",
   "metadata": {},
   "outputs": [],
   "source": []
  }
 ],
 "metadata": {
  "kernelspec": {
   "display_name": "Python 3 (ipykernel)",
   "language": "python",
   "name": "python3"
  },
  "language_info": {
   "codemirror_mode": {
    "name": "ipython",
    "version": 3
   },
   "file_extension": ".py",
   "mimetype": "text/x-python",
   "name": "python",
   "nbconvert_exporter": "python",
   "pygments_lexer": "ipython3",
   "version": "3.8.12"
  }
 },
 "nbformat": 4,
 "nbformat_minor": 5
}
