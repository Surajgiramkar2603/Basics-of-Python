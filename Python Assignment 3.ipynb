{
 "cells": [
  {
   "cell_type": "code",
   "execution_count": 3,
   "id": "b8b7cf90",
   "metadata": {},
   "outputs": [
    {
     "data": {
      "text/plain": [
       "104.0"
      ]
     },
     "execution_count": 3,
     "metadata": {},
     "output_type": "execute_result"
    }
   ],
   "source": [
    "#Ques 1\n",
    "celsius=40\n",
    "farenheit=celsius*1.8+32\n",
    "farenheit"
   ]
  },
  {
   "cell_type": "code",
   "execution_count": 5,
   "id": "496d78c0",
   "metadata": {},
   "outputs": [
    {
     "name": "stdout",
     "output_type": "stream",
     "text": [
      "Enter amount: 10000\n",
      "Enter time: 5\n",
      "Enter rate: 10\n",
      "Simple interest is: 5000.000000\n",
      "Compound interest is: 6105.100000\n"
     ]
    }
   ],
   "source": [
    "#Ques 2\n",
    "# Reading principal amount, rate and time\n",
    "principal = float(input('Enter amount: '))\n",
    "time = float(input('Enter time: '))\n",
    "interest_rate = float(input('Enter rate: '))\n",
    "\n",
    "# Calcualtion\n",
    "simple_interest = (principal*time*interest_rate)/100\n",
    "compound_interest = principal * ( (1+interest_rate/100)**time - 1)\n",
    "\n",
    "# Displaying result\n",
    "print('Simple interest is: %f' % (simple_interest))\n",
    "print('Compound interest is: %f' %(compound_interest))"
   ]
  },
  {
   "cell_type": "code",
   "execution_count": 6,
   "id": "924dfa9e",
   "metadata": {},
   "outputs": [
    {
     "name": "stdout",
     "output_type": "stream",
     "text": [
      "Enter a Number (Numerator): \n",
      "5\n",
      "Enter a Number (denominator): \n",
      "2\n",
      "\n",
      "5 is not divisible by 2\n"
     ]
    }
   ],
   "source": [
    "#Ques 3   #a\n",
    "print(\"Enter a Number (Numerator): \")\n",
    "numn = int(input())\n",
    "print(\"Enter a Number (denominator): \")\n",
    "numd = int(input())\n",
    "\n",
    "if numn%numd==0:\n",
    "  print(\"\\n\" +str(numn)+ \" is divisible by \" +str(numd))\n",
    "else:\n",
    "  print(\"\\n\" +str(numn)+ \" is not divisible by \" +str(numd))"
   ]
  },
  {
   "cell_type": "code",
   "execution_count": 7,
   "id": "9044560a",
   "metadata": {},
   "outputs": [
    {
     "name": "stdout",
     "output_type": "stream",
     "text": [
      "Enter a Number (Numerator): \n",
      "6\n",
      "Enter a Number (denominator): \n",
      "3\n",
      "\n",
      "6 is divisible by 3\n"
     ]
    }
   ],
   "source": [
    "#Ques 3   #b\n",
    "print(\"Enter a Number (Numerator): \")\n",
    "numn = int(input())\n",
    "print(\"Enter a Number (denominator): \")\n",
    "numd = int(input())\n",
    "\n",
    "if numn%numd==0:\n",
    "  print(\"\\n\" +str(numn)+ \" is divisible by \" +str(numd))\n",
    "else:\n",
    "  print(\"\\n\" +str(numn)+ \" is not divisible by \" +str(numd))"
   ]
  },
  {
   "cell_type": "code",
   "execution_count": 8,
   "id": "98c5bae8",
   "metadata": {},
   "outputs": [
    {
     "name": "stdout",
     "output_type": "stream",
     "text": [
      "Enter a number: 20\n",
      "20 is Even\n"
     ]
    }
   ],
   "source": [
    "#Ques 4  #a\n",
    "num = int(input(\"Enter a number: \"))\n",
    "if (num % 2) == 0:\n",
    "   print(\"{0} is Even\".format(num))\n",
    "else:\n",
    "   print(\"{0} is Odd\".format(num))"
   ]
  },
  {
   "cell_type": "code",
   "execution_count": 9,
   "id": "2d2dac9a",
   "metadata": {},
   "outputs": [
    {
     "name": "stdout",
     "output_type": "stream",
     "text": [
      "Enter a number: 11\n",
      "11 is Odd\n"
     ]
    }
   ],
   "source": [
    "#Ques 4  #b\n",
    "num = int(input(\"Enter a number: \"))\n",
    "if (num % 2) == 0:\n",
    "   print(\"{0} is Even\".format(num))\n",
    "else:\n",
    "   print(\"{0} is Odd\".format(num))"
   ]
  },
  {
   "cell_type": "code",
   "execution_count": 17,
   "id": "77dbed08",
   "metadata": {},
   "outputs": [
    {
     "name": "stdout",
     "output_type": "stream",
     "text": [
      "Enter Guess: -6\n",
      "Tolerable Error: 0.0001\n",
      "Maximum Step: 10\n",
      "\n",
      "\n",
      "** NEWTON RAPHSON METHOD IMPLEMENTATION **\n",
      "Iteration-1, x1 = -5.000000 and f(x1) = 148.413159\n",
      "Iteration-2, x1 = -4.000000 and f(x1) = 54.598150\n",
      "Iteration-3, x1 = -3.000000 and f(x1) = 20.085537\n",
      "Iteration-4, x1 = -2.000000 and f(x1) = 7.389056\n",
      "Iteration-5, x1 = -1.000000 and f(x1) = 2.718282\n",
      "Iteration-6, x1 = 0.000000 and f(x1) = 1.000000\n",
      "Iteration-7, x1 = 1.000000 and f(x1) = 0.367879\n",
      "Iteration-8, x1 = 2.000000 and f(x1) = 0.135335\n",
      "Iteration-9, x1 = 3.000000 and f(x1) = 0.049787\n",
      "Iteration-10, x1 = 4.000000 and f(x1) = 0.018316\n",
      "\n",
      "Not Convergent.\n"
     ]
    }
   ],
   "source": [
    "#Ques 5\n",
    "# Defining Function\n",
    "import math\n",
    "\n",
    "def f(x):\n",
    "    return math.pow((math.e),-x)\n",
    "\n",
    "# Defining derivative of function\n",
    "def g(x):\n",
    "    return -1*math.pow((math.e),-x)\n",
    "\n",
    "# Implementing Newton Raphson Method\n",
    "\n",
    "def newtonRaphson(x0,e,N):\n",
    "    print('\\n\\n** NEWTON RAPHSON METHOD IMPLEMENTATION **')\n",
    "    step = 1              \n",
    "    flag = 1\n",
    "    condition = True\n",
    "    while condition:\n",
    "        if g(x0) == 0.0:\n",
    "            print('Divide by zero error!')\n",
    "            break\n",
    "        \n",
    "        x1 = x0 - f(x0)/g(x0)\n",
    "        print('Iteration-%d, x1 = %0.6f and f(x1) = %0.6f' % (step, x1, f(x1)))\n",
    "        x0 = x1\n",
    "        step = step + 1\n",
    "        \n",
    "        if step > N:\n",
    "            flag = 0\n",
    "            break\n",
    "        \n",
    "        condition = abs(f(x1)) > e\n",
    "    \n",
    "    if flag==1:\n",
    "        print('\\nRequired root is: %0.8f' % x1)\n",
    "    else:\n",
    "        print('\\nNot Convergent.')\n",
    "\n",
    "\n",
    "# Input Section\n",
    "x0 = input('Enter Guess: ')\n",
    "e = input('Tolerable Error: ')\n",
    "N = input('Maximum Step: ')\n",
    "\n",
    "# Converting x0 and e to float\n",
    "x0 = float(x0)\n",
    "e = float(e)\n",
    "\n",
    "# Converting N to integer\n",
    "N = int(N)\n",
    "\n",
    "\n",
    "#Note: You can combine above three section like this\n",
    "# x0 = float(input('Enter Guess: '))\n",
    "# e = float(input('Tolerable Error: '))\n",
    "# N = int(input('Maximum Step: '))\n",
    "\n",
    "# Starting Newton Raphson Method\n",
    "newtonRaphson(x0,e,N)"
   ]
  },
  {
   "cell_type": "code",
   "execution_count": 24,
   "id": "9ad89074",
   "metadata": {},
   "outputs": [
    {
     "name": "stdout",
     "output_type": "stream",
     "text": [
      "Enter Guess: 0.5\n",
      "Tolerable Error: 0.001\n",
      "Maximum Step: 10\n",
      "\n",
      "\n",
      "** NEWTON RAPHSON METHOD IMPLEMENTATION **\n",
      "Iteration-1, x1 = 0.450627 and f(x1) = -0.001079\n",
      "Iteration-2, x1 = 0.450184 and f(x1) = -0.000000\n",
      "\n",
      "Required root is: 0.45018365\n"
     ]
    }
   ],
   "source": [
    "#Ques 6\n",
    "def f(x):\n",
    "    return math.cos(x)-2*x\n",
    "\n",
    "# Defining derivative of function\n",
    "def g(x):\n",
    "    return -math.sin(x)-2\n",
    "\n",
    "# Implementing Newton Raphson Method\n",
    "\n",
    "def newtonRaphson(x0,e,N):\n",
    "    print('\\n\\n** NEWTON RAPHSON METHOD IMPLEMENTATION **')\n",
    "    step = 1              \n",
    "    flag = 1\n",
    "    condition = True\n",
    "    while condition:\n",
    "        if g(x0) == 0.0:\n",
    "            print('Divide by zero error!')\n",
    "            break\n",
    "        \n",
    "        x1 = x0 - f(x0)/g(x0)\n",
    "        print('Iteration-%d, x1 = %0.6f and f(x1) = %0.6f' % (step, x1, f(x1)))\n",
    "        x0 = x1\n",
    "        step = step + 1\n",
    "        \n",
    "        if step > N:\n",
    "            flag = 0\n",
    "            break\n",
    "        \n",
    "        condition = abs(f(x1)) > e\n",
    "    \n",
    "    if flag==1:\n",
    "        print('\\nRequired root is: %0.8f' % x1)\n",
    "    else:\n",
    "        print('\\nNot Convergent.')\n",
    "\n",
    "\n",
    "# Input Section\n",
    "x0 = input('Enter Guess: ')\n",
    "e = input('Tolerable Error: ')\n",
    "N = input('Maximum Step: ')\n",
    "\n",
    "# Converting x0 and e to float\n",
    "x0 = float(x0)\n",
    "e = float(e)\n",
    "\n",
    "# Converting N to integer\n",
    "N = int(N)\n",
    "\n",
    "\n",
    "#Note: You can combine above three section like this\n",
    "# x0 = float(input('Enter Guess: '))\n",
    "# e = float(input('Tolerable Error: '))\n",
    "# N = int(input('Maximum Step: '))\n",
    "\n",
    "# Starting Newton Raphson Method\n",
    "newtonRaphson(x0,e,N)"
   ]
  },
  {
   "cell_type": "code",
   "execution_count": 19,
   "id": "31876d42",
   "metadata": {},
   "outputs": [
    {
     "name": "stdout",
     "output_type": "stream",
     "text": [
      "{1: 10, 2: 20, 3: 30, 4: 40, 5: 50, 6: 60}\n"
     ]
    }
   ],
   "source": [
    "#Ques 7   #a)\n",
    "dic1={1:10, 2:20}\n",
    "dic2={3:30, 4:40}\n",
    "dic3={5:50, 6:60}\n",
    "dic4 = {}  \n",
    "\n",
    "for d in (dic1, dic2, dic3): dic4.update(d)  \n",
    "print(dic4)\n"
   ]
  },
  {
   "cell_type": "code",
   "execution_count": 21,
   "id": "d25d04e3",
   "metadata": {},
   "outputs": [
    {
     "name": "stdout",
     "output_type": "stream",
     "text": [
      "{'a': 1, 'b': 2, 'c': 3, 'd': 4, 'e': 5, 'f': 6}\n"
     ]
    }
   ],
   "source": [
    "#Ques 7   #b)\n",
    "dic1={'a':1, 'b':2}\n",
    "dic2={'c':3, 'd':4}\n",
    "dic3={'e':5, 'f':6}\n",
    "dic4 = {}  \n",
    "\n",
    "for d in (dic1, dic2, dic3): dic4.update(d)  \n",
    "print(dic4)"
   ]
  },
  {
   "cell_type": "code",
   "execution_count": 23,
   "id": "a8849c5c",
   "metadata": {},
   "outputs": [
    {
     "name": "stdout",
     "output_type": "stream",
     "text": [
      "0 1 1 2 3 5 8 13 21 34 "
     ]
    }
   ],
   "source": [
    "#Ques 8   \n",
    "def printFibonacciNumbers(n):\n",
    " \n",
    "\n",
    "    f1 = 0\n",
    "\n",
    "    f2 = 1\n",
    "\n",
    "    if (n < 1):\n",
    "\n",
    "        return\n",
    "\n",
    "    print(f1, end=\" \")\n",
    "\n",
    "    for x in range(1, n):\n",
    "\n",
    "        print(f2, end=\" \")\n",
    "\n",
    "        next = f1 + f2\n",
    "\n",
    "        f1 = f2\n",
    "\n",
    "        f2 = next\n",
    "printFibonacciNumbers(10)\n"
   ]
  },
  {
   "cell_type": "code",
   "execution_count": null,
   "id": "cff4df09",
   "metadata": {},
   "outputs": [],
   "source": []
  }
 ],
 "metadata": {
  "kernelspec": {
   "display_name": "Python 3 (ipykernel)",
   "language": "python",
   "name": "python3"
  },
  "language_info": {
   "codemirror_mode": {
    "name": "ipython",
    "version": 3
   },
   "file_extension": ".py",
   "mimetype": "text/x-python",
   "name": "python",
   "nbconvert_exporter": "python",
   "pygments_lexer": "ipython3",
   "version": "3.8.12"
  }
 },
 "nbformat": 4,
 "nbformat_minor": 5
}
